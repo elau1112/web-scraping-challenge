{
 "cells": [
  {
   "cell_type": "code",
   "execution_count": 1,
   "metadata": {},
   "outputs": [],
   "source": [
    "import pandas as pd\n",
    "import requests\n",
    "import os\n",
    "import pymongo\n",
    "\n",
    "from bs4 import BeautifulSoup\n",
    "from splinter import Browser\n",
    "from webdriver_manager.chrome import ChromeDriverManager"
   ]
  },
  {
   "cell_type": "code",
   "execution_count": 2,
   "metadata": {},
   "outputs": [
    {
     "name": "stderr",
     "output_type": "stream",
     "text": [
      "[WDM] - ====== WebDriver manager ======\n",
      "[WDM] - Current google-chrome version is 89.0.4389\n",
      "[WDM] - Get LATEST driver version for 89.0.4389\n"
     ]
    },
    {
     "name": "stdout",
     "output_type": "stream",
     "text": [
      "\n",
      "\n"
     ]
    },
    {
     "name": "stderr",
     "output_type": "stream",
     "text": [
      "[WDM] - Driver [C:\\Users\\elau1\\.wdm\\drivers\\chromedriver\\win32\\89.0.4389.23\\chromedriver.exe] found in cache\n"
     ]
    }
   ],
   "source": [
    "executable_path = {'executable_path': ChromeDriverManager().install()}\n",
    "browser = Browser('chrome', **executable_path, headless=False)"
   ]
  },
  {
   "cell_type": "code",
   "execution_count": 3,
   "metadata": {},
   "outputs": [],
   "source": [
    "url12 = 'https://astrogeology.usgs.gov/search/results?q=hemisphere+enhanced&k1=target&v1=Mars'"
   ]
  },
  {
   "cell_type": "code",
   "execution_count": 4,
   "metadata": {},
   "outputs": [],
   "source": [
    "response12 = requests.get(url12)\n",
    "mars12 = BeautifulSoup(response12.text, 'html.parser')"
   ]
  },
  {
   "cell_type": "code",
   "execution_count": 8,
   "metadata": {},
   "outputs": [],
   "source": [
    "import re\n",
    "results12 = mars12.find_all('a', {'href':re.compile('/search/map/Mars')})\n",
    "img_u=[]\n",
    "for result12 in results12:\n",
    "    try:\n",
    "        img_u.append('https://astrogeology.usgs.gov' + result12['href'])\n",
    "        #print('--------')\n",
    "        #print(\"Image_u:\", img_u)\n",
    "    except AttributeError as e:\n",
    "        print(e)"
   ]
  },
  {
   "cell_type": "code",
   "execution_count": 9,
   "metadata": {},
   "outputs": [
    {
     "data": {
      "text/plain": [
       "['https://astrogeology.usgs.gov/search/map/Mars/Viking/cerberus_enhanced',\n",
       " 'https://astrogeology.usgs.gov/search/map/Mars/Viking/schiaparelli_enhanced',\n",
       " 'https://astrogeology.usgs.gov/search/map/Mars/Viking/syrtis_major_enhanced',\n",
       " 'https://astrogeology.usgs.gov/search/map/Mars/Viking/valles_marineris_enhanced']"
      ]
     },
     "execution_count": 9,
     "metadata": {},
     "output_type": "execute_result"
    }
   ],
   "source": [
    "img_u"
   ]
  },
  {
   "cell_type": "code",
   "execution_count": 10,
   "metadata": {},
   "outputs": [],
   "source": [
    "i=0;\n",
    "url_i = img_u[i]\n",
    "browser.visit(url_i)\n",
    "#response_i = requests.get(url_i)\n",
    "#mars_i = BeautifulSoup(response_i.text, 'html.parser')"
   ]
  },
  {
   "cell_type": "code",
   "execution_count": 11,
   "metadata": {},
   "outputs": [],
   "source": [
    "xpath_i = './/ul//a[@href]'\n",
    "results_i = browser.find_by_xpath(xpath_i)\n",
    "img = results_i[0]\n",
    "img.click()"
   ]
  },
  {
   "cell_type": "code",
   "execution_count": 12,
   "metadata": {},
   "outputs": [],
   "source": [
    "response_i = requests.get(url_i)\n",
    "mars_i = BeautifulSoup(response_i.text, 'html.parser')"
   ]
  },
  {
   "cell_type": "code",
   "execution_count": 35,
   "metadata": {},
   "outputs": [
    {
     "data": {
      "text/plain": [
       "'Cerberus Hemisphere '"
      ]
     },
     "execution_count": 35,
     "metadata": {},
     "output_type": "execute_result"
    }
   ],
   "source": [
    "results_ti=mars_i.find('h2', class_='title').text.split('Enhanced')[0]\n",
    "#results_ti=mars_i.find_all('h2', {'class':re.compile('title')})\n",
    "results_ti"
   ]
  },
  {
   "cell_type": "code",
   "execution_count": 37,
   "metadata": {},
   "outputs": [
    {
     "name": "stdout",
     "output_type": "stream",
     "text": [
      "--------\n",
      "title: Cerberus Hemisphere \n",
      "Image_url: https://astropedia.astrogeology.usgs.gov/download/Mars/Viking/cerberus_enhanced.tif/full.jpg\n"
     ]
    }
   ],
   "source": [
    "results_ii=mars_i.find_all('a', {'href':re.compile('full.jpg')})\n",
    "#img_ii=[]\n",
    "for result_ii in results_ii:\n",
    "    try:\n",
    "        title=mars_i.find('h2', class_='title').text.split('Enhanced')[0]\n",
    "        img_ii=result_ii['href']\n",
    "        #img_ii.append(result_ii['href'])\n",
    "        print('--------')\n",
    "        print(\"title:\", title)\n",
    "        print(\"Image_url:\", img_ii)\n",
    "    except AttributeError as e:\n",
    "        print(e)\n",
    "        \n"
   ]
  },
  {
   "cell_type": "code",
   "execution_count": 28,
   "metadata": {},
   "outputs": [
    {
     "data": {
      "text/plain": [
       "['title']"
      ]
     },
     "execution_count": 28,
     "metadata": {},
     "output_type": "execute_result"
    }
   ],
   "source": [
    "result_ti['class']"
   ]
  },
  {
   "cell_type": "code",
   "execution_count": 8,
   "metadata": {},
   "outputs": [
    {
     "data": {
      "text/plain": [
       "'/images/usgs_logo_main_2x.png'"
      ]
     },
     "execution_count": 8,
     "metadata": {},
     "output_type": "execute_result"
    }
   ],
   "source": [
    "featured_i = mars_i.find(\"img\")[\"src\"]\n",
    "featured_i"
   ]
  },
  {
   "cell_type": "code",
   "execution_count": 41,
   "metadata": {},
   "outputs": [
    {
     "name": "stdout",
     "output_type": "stream",
     "text": [
      "--------\n",
      "title: ['Cerberus Hemisphere']\n",
      "img_url: ['https://astropedia.astrogeology.usgs.gov/download/Mars/Viking/cerberus_enhanced.tif/full.jpg']\n",
      "--------\n",
      "title: ['Schiaparelli Hemisphere']\n",
      "img_url: ['https://astropedia.astrogeology.usgs.gov/download/Mars/Viking/schiaparelli_enhanced.tif/full.jpg']\n",
      "--------\n",
      "title: ['Syrtis Major Hemisphere']\n",
      "img_url: ['https://astropedia.astrogeology.usgs.gov/download/Mars/Viking/syrtis_major_enhanced.tif/full.jpg']\n",
      "--------\n",
      "title: ['Valles Marineris Hemisphere']\n",
      "img_url: ['https://astropedia.astrogeology.usgs.gov/download/Mars/Viking/valles_marineris_enhanced.tif/full.jpg']\n"
     ]
    }
   ],
   "source": [
    "for i in range(len(img_u)):\n",
    "    url_i = img_u[i]\n",
    "    browser.visit(url_i)\n",
    "    xpath_i = './/ul//a[@href]'\n",
    "    results_i = browser.find_by_xpath(xpath_i)\n",
    "    img = results_i[0]\n",
    "    img.click()    \n",
    "    \n",
    "    response_i = requests.get(url_i)\n",
    "    mars_i = BeautifulSoup(response_i.text, 'html.parser')\n",
    "    results_ii=mars_i.find_all('a', {'href':re.compile('full.jpg')})\n",
    "    results_ti=mars_i.find_all('h2', {'class':re.compile('title')})\n",
    "    img_url=[]\n",
    "    title=[]\n",
    "    for result_ii in results_ii:\n",
    "        try:\n",
    "            title.append(mars_i.find('h2', class_='title').text.split(' Enhanced')[0])\n",
    "            #title.append(result_ti['class'])\n",
    "            img_url.append(result_ii['href'])\n",
    "            print('--------')\n",
    "            print(\"title:\", title)\n",
    "            print(\"img_url:\", img_url)\n",
    "        except AttributeError as e:\n",
    "            print(e)"
   ]
  },
  {
   "cell_type": "code",
   "execution_count": 44,
   "metadata": {},
   "outputs": [
    {
     "data": {
      "text/plain": [
       "[{'title': ['Valles Marineris Hemisphere'],\n",
       "  'img_url': ['https://astropedia.astrogeology.usgs.gov/download/Mars/Viking/valles_marineris_enhanced.tif/full.jpg']}]"
      ]
     },
     "execution_count": 44,
     "metadata": {},
     "output_type": "execute_result"
    }
   ],
   "source": [
    "hemisphere_image_urls = [{\"title\": title, \"img_url\": img_url}]\n",
    "hemisphere_image_urls "
   ]
  },
  {
   "cell_type": "code",
   "execution_count": null,
   "metadata": {},
   "outputs": [],
   "source": []
  }
 ],
 "metadata": {
  "kernelspec": {
   "display_name": "Python 3",
   "language": "python",
   "name": "python3"
  },
  "language_info": {
   "codemirror_mode": {
    "name": "ipython",
    "version": 3
   },
   "file_extension": ".py",
   "mimetype": "text/x-python",
   "name": "python",
   "nbconvert_exporter": "python",
   "pygments_lexer": "ipython3",
   "version": "3.8.5"
  }
 },
 "nbformat": 4,
 "nbformat_minor": 4
}
